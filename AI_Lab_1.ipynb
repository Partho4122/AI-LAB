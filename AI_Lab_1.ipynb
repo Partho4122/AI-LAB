{
  "nbformat": 4,
  "nbformat_minor": 0,
  "metadata": {
    "colab": {
      "provenance": [],
      "authorship_tag": "ABX9TyMNaKMB9gadJa9ABPuMWoIN",
      "include_colab_link": true
    },
    "kernelspec": {
      "name": "python3",
      "display_name": "Python 3"
    },
    "language_info": {
      "name": "python"
    }
  },
  "cells": [
    {
      "cell_type": "markdown",
      "metadata": {
        "id": "view-in-github",
        "colab_type": "text"
      },
      "source": [
        "<a href=\"https://colab.research.google.com/github/Partho4122/AI-LAB/blob/main/AI_Lab_1.ipynb\" target=\"_parent\"><img src=\"https://colab.research.google.com/assets/colab-badge.svg\" alt=\"Open In Colab\"/></a>"
      ]
    },
    {
      "cell_type": "code",
      "execution_count": null,
      "metadata": {
        "colab": {
          "base_uri": "https://localhost:8080/"
        },
        "id": "qx0SBjfGGjrV",
        "outputId": "f52b8b6f-67c3-4352-e101-e38fd26a8ffd"
      },
      "outputs": [
        {
          "output_type": "stream",
          "name": "stdout",
          "text": [
            "['iphone', 'samsung', 'oneplus', 'walton', 'redmi', 'sony', 'symphony']\n",
            "7\n",
            "<class 'list'>\n",
            "samsung\n",
            "symphony\n",
            "['oneplus', 'walton', 'redmi']\n",
            "['iphone', 'samsung', 'oneplus', 'walton']\n",
            "['oneplus', 'walton', 'redmi', 'sony', 'symphony']\n"
          ]
        }
      ],
      "source": [
        "thislist = [\"iphone\", \"samsung\", \"oneplus\", \"walton\", \"redmi\", \"sony\", \"symphony\"]\n",
        "print(thislist)\n",
        "print(len(thislist))    #determining length\n",
        "print(type(thislist))   #determining type\n",
        "print(thislist[1])      #no.1 index\n",
        "print(thislist[-1])     #last index\n",
        "print(thislist[2:5])    #from index 2, before index 5.\n",
        "print(thislist[:4])     #from starting to before index 4\n",
        "print(thislist[2:])     #from index 2 to end"
      ]
    },
    {
      "cell_type": "code",
      "source": [
        "thislist = [\"phy\", \"che\", \"math\"]\n",
        "thislist[1] = \"ict\"\n",
        "print(thislist)\n",
        "\n",
        "thislist.insert(2, \"eng\")\n",
        "print(thislist)\n",
        "\n",
        "thislist.append(\"ban\")\n",
        "print(thislist)\n",
        "\n",
        "thislist.remove(\"phy\")\n",
        "print(thislist)\n",
        "\n",
        "thislist.sort()\n",
        "print(thislist)\n",
        "\n",
        "mylist = thislist.copy()\n",
        "print(mylist)\n",
        "\n",
        "list1 = [\"a\", \"b\", \"c\"]\n",
        "list2 = [1, 2, 3]\n",
        "\n",
        "list3 = list1 + list2\n",
        "print(list3)"
      ],
      "metadata": {
        "colab": {
          "base_uri": "https://localhost:8080/"
        },
        "id": "lh2NUWTwHnci",
        "outputId": "4b6d7556-a7b0-47c4-c245-45f44da50523"
      },
      "execution_count": null,
      "outputs": [
        {
          "output_type": "stream",
          "name": "stdout",
          "text": [
            "['phy', 'ict', 'math']\n",
            "['phy', 'ict', 'eng', 'math']\n",
            "['phy', 'ict', 'eng', 'math', 'ban']\n",
            "['ict', 'eng', 'math', 'ban']\n",
            "['ban', 'eng', 'ict', 'math']\n",
            "['ban', 'eng', 'ict', 'math']\n",
            "['a', 'b', 'c', 1, 2, 3]\n"
          ]
        }
      ]
    },
    {
      "cell_type": "code",
      "source": [],
      "metadata": {
        "id": "RJbYQ5sSOyDK"
      },
      "execution_count": null,
      "outputs": []
    },
    {
      "cell_type": "code",
      "source": [],
      "metadata": {
        "id": "AKG0q-pfPIQ5"
      },
      "execution_count": null,
      "outputs": []
    },
    {
      "cell_type": "markdown",
      "source": [
        "***slicing***"
      ],
      "metadata": {
        "id": "YtU4LqaaJCOj"
      }
    },
    {
      "cell_type": "code",
      "source": [
        "a = (\"a\", \"b\", \"c\", \"d\", \"e\", \"f\", \"g\", \"h\")\n",
        "x = slice(3, 5)\n",
        "print(a[x])\n",
        "\n",
        "x = slice(0, 8, 3)\n",
        "print(a[x])"
      ],
      "metadata": {
        "colab": {
          "base_uri": "https://localhost:8080/"
        },
        "id": "M0_oNAL1JIAf",
        "outputId": "4a9a394f-9cb1-457c-ed43-784b30a95386"
      },
      "execution_count": null,
      "outputs": [
        {
          "output_type": "stream",
          "name": "stdout",
          "text": [
            "('d', 'e')\n",
            "('a', 'd', 'g')\n"
          ]
        }
      ]
    },
    {
      "cell_type": "markdown",
      "source": [
        "***File***"
      ],
      "metadata": {
        "id": "sJhmYQm1KyC2"
      }
    },
    {
      "cell_type": "code",
      "source": [
        "f= open(\"a.txt\")\n",
        "f = open(\"a.txt\", \"r\")\n",
        "print(f.read())\n",
        "\n",
        "\n"
      ],
      "metadata": {
        "colab": {
          "base_uri": "https://localhost:8080/"
        },
        "id": "_rna7ogfK1X5",
        "outputId": "da7868f6-ae15-4374-cb26-da6f4f273755"
      },
      "execution_count": null,
      "outputs": [
        {
          "output_type": "stream",
          "name": "stdout",
          "text": [
            "ffdgd\n",
            "hhgjj\n",
            "uiuiuoi\n",
            "ffdgd\n",
            "hhgjj\n",
            "uiuiuoiwrite\n"
          ]
        }
      ]
    },
    {
      "cell_type": "code",
      "source": [
        "f = open(\"a.txt\", \"a\")\n",
        "f.write(\"write\")\n",
        "f.close()\n",
        "\n",
        "\n",
        "f = open(\"a.txt\", \"r\")\n",
        "print(f.read())"
      ],
      "metadata": {
        "colab": {
          "base_uri": "https://localhost:8080/"
        },
        "id": "cTDzkWa_MTxH",
        "outputId": "082b0a69-b4e3-4018-ab2d-205626b868d2"
      },
      "execution_count": null,
      "outputs": [
        {
          "output_type": "stream",
          "name": "stdout",
          "text": [
            "ffdgd\n",
            "hhgjj\n",
            "aaaaaaawrite\n"
          ]
        }
      ]
    }
  ]
}